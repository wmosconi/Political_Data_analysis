{
 "cells": [
  {
   "cell_type": "code",
   "execution_count": 1,
   "metadata": {},
   "outputs": [],
   "source": [
    "import matplotlib.pyplot as plt"
   ]
  },
  {
   "cell_type": "code",
   "execution_count": 2,
   "metadata": {},
   "outputs": [],
   "source": [
    "import numpy as np"
   ]
  },
  {
   "cell_type": "code",
   "execution_count": 5,
   "metadata": {},
   "outputs": [],
   "source": [
    "import pandas as pd\n",
    "df = pd.read_csv(\"/Users/williammosconiii/Desktop/Political_Ad_Data.csv\")\n",
    "with open(\"/Users/williammosconiii/Desktop/Political_Ad_Data.csv\", \"r\") as csv_file:\n",
    "    df"
   ]
  },
  {
   "cell_type": "markdown",
   "metadata": {},
   "source": [
    "#### What type of Ads to people think americans want to see? In this Analysis we will explore a data set from the US 2016 national and statewide elections including 300,000 Ads aired and descriptive elements for each Ad. We will focus on the overall \"Message\" (Pro, Con, or Mixed) of the Ads.  Let's take a look at the column names to understand the data available to analyze."
   ]
  },
  {
   "cell_type": "code",
   "execution_count": 6,
   "metadata": {},
   "outputs": [
    {
     "data": {
      "text/plain": [
       "Index(['id', 'wp_identifier', 'network', 'location', 'program', 'program_type',\n",
       "       'start_time', 'end_time', 'archive_id', 'embed_url', 'sponsors',\n",
       "       'sponsor_types', 'race', 'cycle', 'subjects', 'candidates', 'type',\n",
       "       'message', 'date_created'],\n",
       "      dtype='object')"
      ]
     },
     "execution_count": 6,
     "metadata": {},
     "output_type": "execute_result"
    }
   ],
   "source": [
    "df.columns"
   ]
  },
  {
   "cell_type": "markdown",
   "metadata": {},
   "source": [
    "#### We can see 'message' is one of the column names, let's now take a look at the data inside this column."
   ]
  },
  {
   "cell_type": "code",
   "execution_count": 8,
   "metadata": {},
   "outputs": [
    {
     "data": {
      "text/plain": [
       "array(['pro', 'con', 'mixed', 'unknown', 'mix'], dtype=object)"
      ]
     },
     "execution_count": 8,
     "metadata": {},
     "output_type": "execute_result"
    }
   ],
   "source": [
    "df.message.unique()"
   ]
  },
  {
   "cell_type": "code",
   "execution_count": null,
   "metadata": {},
   "outputs": [],
   "source": [
    "#### It looks like our data has multiple ways to express the \"Message\" characteristic. Let's clean up the data to make it more usable for our analysis. For our purposes we will assume that 'mixed', 'unknown', and 'mix' all mean the Ad has a 'mixed' 'message'\n",
    "df.message=df.message.apply (lambda x: 'mixed' if x == 'mix' or x == 'unknown' else x)"
   ]
  },
  {
   "cell_type": "code",
   "execution_count": 10,
   "metadata": {},
   "outputs": [
    {
     "data": {
      "text/plain": [
       "array(['pro', 'con', 'mixed'], dtype=object)"
      ]
     },
     "execution_count": 10,
     "metadata": {},
     "output_type": "execute_result"
    }
   ],
   "source": [
    "# Let's validate that our data cleaning has worked.\n",
    "df.message.unique()"
   ]
  },
  {
   "cell_type": "code",
   "execution_count": 11,
   "metadata": {
    "scrolled": true
   },
   "outputs": [
    {
     "data": {
      "text/plain": [
       "mixed    132151\n",
       "con      128108\n",
       "pro      115091\n",
       "Name: message, dtype: int64"
      ]
     },
     "execution_count": 11,
     "metadata": {},
     "output_type": "execute_result"
    }
   ],
   "source": [
    "# As Ad \"Message\" will be key to our analysis let's take a look at the Value counts for \"Message\"\n",
    "df.message.value_counts()"
   ]
  },
  {
   "cell_type": "code",
   "execution_count": 9,
   "metadata": {},
   "outputs": [
    {
     "data": {
      "text/plain": [
       "<matplotlib.legend.Legend at 0x10f576be0>"
      ]
     },
     "execution_count": 9,
     "metadata": {},
     "output_type": "execute_result"
    },
    {
     "data": {
      "image/png": "[encoded data removed]",
      "text/plain": [
       "<Figure size 1600x640 with 1 Axes>"
      ]
     },
     "metadata": {},
     "output_type": "display_data"
    }
   ],
   "source": [
    "# Let's take a look at the overal distribution of Ad Message in a visual.\n",
    "pro_count = '{0:.2f}'.format(len(df[df['message'] == 'pro'])/len(df)*100) + '%'\n",
    "con_count = '{0:.2f}'.format(len(df[df['message'] == 'con'])/len(df)*100) + '%'\n",
    "mixed_count = '{0:.2f}'.format(len(df[df['message'] == 'mixed'])/len(df)*100) + '%'\n",
    "from matplotlib.pyplot import figure\n",
    "figure(num=None, figsize=(20, 8), dpi=80, facecolor='w', edgecolor='k')\n",
    "df.message.value_counts().plot(kind='pie', labels=[pro_count, con_count, mixed_count])\n",
    "plt.title('Percentage of Ads by Message')\n",
    "plt.ylabel('')\n",
    "plt.legend(loc = 'upper left')\n",
    "plt.legend(['Pro', 'Con', 'Mixed'])"
   ]
  },
  {
   "cell_type": "code",
   "execution_count": 10,
   "metadata": {},
   "outputs": [],
   "source": [
    "# It looks like, in total, the Ads are evenly distributed throughout the 3 message types.\n",
    "# Let's take a look at some other columns."
   ]
  },
  {
   "cell_type": "code",
   "execution_count": 13,
   "metadata": {},
   "outputs": [
    {
     "data": {
      "text/html": [
       "<div>\n",
       "<style scoped>\n",
       "    .dataframe tbody tr th:only-of-type {\n",
       "        vertical-align: middle;\n",
       "    }\n",
       "\n",
       "    .dataframe tbody tr th {\n",
       "        vertical-align: top;\n",
       "    }\n",
       "\n",
       "    .dataframe thead th {\n",
       "        text-align: right;\n",
       "    }\n",
       "</style>\n",
       "<table border=\"1\" class=\"dataframe\">\n",
       "  <thead>\n",
       "    <tr style=\"text-align: right;\">\n",
       "      <th>message</th>\n",
       "      <th>con</th>\n",
       "      <th>mixed</th>\n",
       "      <th>pro</th>\n",
       "    </tr>\n",
       "    <tr>\n",
       "      <th>program_type</th>\n",
       "      <th></th>\n",
       "      <th></th>\n",
       "      <th></th>\n",
       "    </tr>\n",
       "  </thead>\n",
       "  <tbody>\n",
       "    <tr>\n",
       "      <th>news</th>\n",
       "      <td>84591</td>\n",
       "      <td>84944</td>\n",
       "      <td>72388</td>\n",
       "    </tr>\n",
       "    <tr>\n",
       "      <th>not news</th>\n",
       "      <td>43517</td>\n",
       "      <td>47207</td>\n",
       "      <td>42703</td>\n",
       "    </tr>\n",
       "  </tbody>\n",
       "</table>\n",
       "</div>"
      ],
      "text/plain": [
       "message         con  mixed    pro\n",
       "program_type                     \n",
       "news          84591  84944  72388\n",
       "not news      43517  47207  42703"
      ]
     },
     "execution_count": 13,
     "metadata": {},
     "output_type": "execute_result"
    }
   ],
   "source": [
    "# Let's start with the 'program_type'. We can group our data by to see how 'message' is distributed across 'program_type'\n",
    "df12 = df.groupby(['program_type','message'])['id'].count().unstack()\n",
    "df12"
   ]
  },
  {
   "cell_type": "code",
   "execution_count": 14,
   "metadata": {},
   "outputs": [],
   "source": [
    "#Null Hypothesis: There is no difference among the number of ads with con, mixed and pro message and between program type (news vs not news)\n",
    "#Hypothesis A: There is a difference...."
   ]
  },
  {
   "cell_type": "code",
   "execution_count": 15,
   "metadata": {},
   "outputs": [
    {
     "name": "stdout",
     "output_type": "stream",
     "text": [
      "8.082842010252112e-58\n"
     ]
    }
   ],
   "source": [
    "# With the chi^2 tool we can conduct a test\n",
    "from scipy.stats import chi2_contingency\n",
    "pt_chi = np.array([[84591, 84944, 72388], [43517, 47207, 42703]])\n",
    "chi2_contingency(pt_chi)\n",
    "g, p, dof, expctd = chi2_contingency(pt_chi, lambda_=\"log-likelihood\")\n",
    "print(p)"
   ]
  },
  {
   "cell_type": "code",
   "execution_count": 16,
   "metadata": {},
   "outputs": [],
   "source": [
    "#Since the p-value (8.08 x 10^ -58) is less than alpha = 0.05, we conclude that the null hypothesis is rejected.\n",
    "#Let's take a look at another column to see if the hyphothesis holds for other values."
   ]
  },
  {
   "cell_type": "code",
   "execution_count": 17,
   "metadata": {},
   "outputs": [],
   "source": [
    "#We have data for start time and end time of the Ads, however, the data is not easy to work with as it shows\n",
    "#the time on each to the second. Let's create a function to manipulate our data into something we can work with.\n",
    "#We will define three different time periods (Morning, Afternoon, and Evening) so we can group our data.\n",
    "def timefunction(a):\n",
    "    a = int(a)\n",
    "    if a >= 4 and a <= 12:\n",
    "        return 'Morning'\n",
    "    elif a > 12 and a <= 19:\n",
    "        return 'Afternoon'\n",
    "    else:\n",
    "        return 'Evening'"
   ]
  },
  {
   "cell_type": "code",
   "execution_count": 18,
   "metadata": {},
   "outputs": [],
   "source": [
    "#Now that we have defined our function (timefunction) we can apply it to our data.\n",
    "df.start_time.value_counts()\n",
    "#4-12 Morning 12-7 Afternoon 7-4 Evening\n",
    "df['AirTime'] = df['start_time'].apply(lambda x: timefunction(x[11:13]))"
   ]
  },
  {
   "cell_type": "code",
   "execution_count": 20,
   "metadata": {},
   "outputs": [
    {
     "data": {
      "text/html": [
       "<div>\n",
       "<style scoped>\n",
       "    .dataframe tbody tr th:only-of-type {\n",
       "        vertical-align: middle;\n",
       "    }\n",
       "\n",
       "    .dataframe tbody tr th {\n",
       "        vertical-align: top;\n",
       "    }\n",
       "\n",
       "    .dataframe thead th {\n",
       "        text-align: right;\n",
       "    }\n",
       "</style>\n",
       "<table border=\"1\" class=\"dataframe\">\n",
       "  <thead>\n",
       "    <tr style=\"text-align: right;\">\n",
       "      <th>message</th>\n",
       "      <th>con</th>\n",
       "      <th>mixed</th>\n",
       "      <th>pro</th>\n",
       "    </tr>\n",
       "    <tr>\n",
       "      <th>AirTime</th>\n",
       "      <th></th>\n",
       "      <th></th>\n",
       "      <th></th>\n",
       "    </tr>\n",
       "  </thead>\n",
       "  <tbody>\n",
       "    <tr>\n",
       "      <th>Afternoon</th>\n",
       "      <td>36972</td>\n",
       "      <td>36999</td>\n",
       "      <td>33649</td>\n",
       "    </tr>\n",
       "    <tr>\n",
       "      <th>Evening</th>\n",
       "      <td>52131</td>\n",
       "      <td>55089</td>\n",
       "      <td>47400</td>\n",
       "    </tr>\n",
       "    <tr>\n",
       "      <th>Morning</th>\n",
       "      <td>39005</td>\n",
       "      <td>40063</td>\n",
       "      <td>34042</td>\n",
       "    </tr>\n",
       "  </tbody>\n",
       "</table>\n",
       "</div>"
      ],
      "text/plain": [
       "message      con  mixed    pro\n",
       "AirTime                       \n",
       "Afternoon  36972  36999  33649\n",
       "Evening    52131  55089  47400\n",
       "Morning    39005  40063  34042"
      ]
     },
     "execution_count": 20,
     "metadata": {},
     "output_type": "execute_result"
    }
   ],
   "source": [
    "#After the function is applied we can group our data\n",
    "df13 = df.groupby(['AirTime', 'message'])['id'].count().unstack()\n",
    "df13"
   ]
  },
  {
   "cell_type": "code",
   "execution_count": 21,
   "metadata": {},
   "outputs": [
    {
     "name": "stdout",
     "output_type": "stream",
     "text": [
      "4.731777456594661e-14\n"
     ]
    }
   ],
   "source": [
    "#Now that we have our data in a dataframe we can conduct our second chi^2 test\n",
    "#Null Hypothesis: There is no difference among the number of ads with con, mixed and pro message between airtime(Afternoon, Evening, Morning))\n",
    "#Hypothesis B: There is a difference....\n",
    "pt_chi = np.array([[36972, 36999, 33649], [52131, 55089, 47400],[39005, 40063, 34042]])\n",
    "chi2_contingency(pt_chi)\n",
    "g, p, dof, expctd = chi2_contingency(pt_chi, lambda_=\"log-likelihood\")\n",
    "print(p)"
   ]
  },
  {
   "cell_type": "code",
   "execution_count": null,
   "metadata": {},
   "outputs": [],
   "source": [
    "#Since the p-value (4.73 x 10^ 14) is less than alpha = 0.05, we conclude that the null hypothesis is rejected."
   ]
  },
  {
   "cell_type": "code",
   "execution_count": 24,
   "metadata": {},
   "outputs": [
    {
     "data": {
      "text/plain": [
       "array(['Las Vegas, NV', 'Raleigh-Durham-Fayetteville,  NC',\n",
       "       'Tampa-St. Petersburg, FL', 'Cleveland, Ohio',\n",
       "       'Ceder Rapids-Waterloo-Iowa City-Dublin, Iowa', 'Philadelphia, PA',\n",
       "       'Denver, CO', 'Milwaukee, WI',\n",
       "       'San Francisco-Oakland-San Jose, CA', 'Phoenix-Prescott, AZ',\n",
       "       'Boston, MA/Manchester, NH', 'Washington, DC/Hagerstown, MD',\n",
       "       'Orlando-Daytona Beach-Melbourne, FL', 'Sioux City, Iowa',\n",
       "       'New York City, NY', 'Reno, NV', 'Cincinnati, OH',\n",
       "       'Des Moines-Ames, Iowa', 'Norfolk-Portsmouth-Newport News, NC',\n",
       "       'Greenville-Spartanburg, SC/Asheville-Anderson, NC',\n",
       "       'Colorado Springs-Pueblo, CO', 'Miami-Fort Lauderdale, FL',\n",
       "       'Charlotte, NC', 'Columbia, SC', 'Roanoke-Lynchburg, VA', nan],\n",
       "      dtype=object)"
      ]
     },
     "execution_count": 24,
     "metadata": {},
     "output_type": "execute_result"
    }
   ],
   "source": [
    "# Let's take a look at the other columns' unique values to see how we can analyze our Ads further.\n",
    "df.location.unique()"
   ]
  },
  {
   "cell_type": "code",
   "execution_count": 22,
   "metadata": {},
   "outputs": [],
   "source": [
    "# Location looks like a good way to analyze our Ads."
   ]
  },
  {
   "cell_type": "code",
   "execution_count": 26,
   "metadata": {},
   "outputs": [
    {
     "data": {
      "text/plain": [
       "15013.0"
      ]
     },
     "execution_count": 26,
     "metadata": {},
     "output_type": "execute_result"
    }
   ],
   "source": [
    "# Before we look at each location's Ad count let's take a look at the average of all locations for a baseline.\n",
    "df.location.value_counts()\n",
    "x = df.location.value_counts()\n",
    "np.mean(x)"
   ]
  },
  {
   "cell_type": "code",
   "execution_count": 27,
   "metadata": {},
   "outputs": [
    {
     "data": {
      "text/plain": [
       "Boston, MA/Manchester, NH                            50920\n",
       "Philadelphia, PA                                     44326\n",
       "Las Vegas, NV                                        42131\n",
       "Ceder Rapids-Waterloo-Iowa City-Dublin, Iowa         24580\n",
       "Tampa-St. Petersburg, FL                             24207\n",
       "Cleveland, Ohio                                      23156\n",
       "San Francisco-Oakland-San Jose, CA                   20944\n",
       "Des Moines-Ames, Iowa                                17726\n",
       "Raleigh-Durham-Fayetteville,  NC                     17437\n",
       "Milwaukee, WI                                        15423\n",
       "Sioux City, Iowa                                     12906\n",
       "Phoenix-Prescott, AZ                                 12900\n",
       "Washington, DC/Hagerstown, MD                        12325\n",
       "Denver, CO                                           10901\n",
       "Columbia, SC                                         10870\n",
       "Greenville-Spartanburg, SC/Asheville-Anderson, NC     8565\n",
       "Reno, NV                                              6032\n",
       "Orlando-Daytona Beach-Melbourne, FL                   4899\n",
       "Cincinnati, OH                                        4031\n",
       "Miami-Fort Lauderdale, FL                             2548\n",
       "Charlotte, NC                                         2530\n",
       "New York City, NY                                     2013\n",
       "Norfolk-Portsmouth-Newport News, NC                   1506\n",
       "Colorado Springs-Pueblo, CO                           1481\n",
       "Roanoke-Lynchburg, VA                                  968\n",
       "Name: location, dtype: int64"
      ]
     },
     "execution_count": 27,
     "metadata": {},
     "output_type": "execute_result"
    }
   ],
   "source": [
    "# Let's look at the number of Ads show in each Location.\n",
    "df.location.value_counts()"
   ]
  },
  {
   "cell_type": "code",
   "execution_count": 27,
   "metadata": {},
   "outputs": [
    {
     "data": {
      "text/plain": [
       "location                                           message\n",
       "Boston, MA/Manchester, NH                          con        19554\n",
       "                                                   mixed      17760\n",
       "                                                   pro        13606\n",
       "Ceder Rapids-Waterloo-Iowa City-Dublin, Iowa       con         3660\n",
       "                                                   mixed      12316\n",
       "                                                   pro         8604\n",
       "Charlotte, NC                                      con          129\n",
       "                                                   mixed       1689\n",
       "                                                   pro          712\n",
       "Cincinnati, OH                                     con          179\n",
       "                                                   mixed       1539\n",
       "                                                   pro         2313\n",
       "Cleveland, Ohio                                    con        10447\n",
       "                                                   mixed       6200\n",
       "                                                   pro         6509\n",
       "Colorado Springs-Pueblo, CO                        con            7\n",
       "                                                   mixed        979\n",
       "                                                   pro          495\n",
       "Columbia, SC                                       con         2275\n",
       "                                                   mixed       4203\n",
       "                                                   pro         4392\n",
       "Denver, CO                                         con         2670\n",
       "                                                   mixed       3707\n",
       "                                                   pro         4524\n",
       "Des Moines-Ames, Iowa                              con          839\n",
       "                                                   mixed      10418\n",
       "                                                   pro         6469\n",
       "Greenville-Spartanburg, SC/Asheville-Anderson, NC  con         1718\n",
       "                                                   mixed       3417\n",
       "                                                   pro         3430\n",
       "                                                              ...  \n",
       "Philadelphia, PA                                   con        20041\n",
       "                                                   mixed      12228\n",
       "                                                   pro        12057\n",
       "Phoenix-Prescott, AZ                               con         4050\n",
       "                                                   mixed       5358\n",
       "                                                   pro         3492\n",
       "Raleigh-Durham-Fayetteville,  NC                   con         8219\n",
       "                                                   mixed       4689\n",
       "                                                   pro         4529\n",
       "Reno, NV                                           con           44\n",
       "                                                   mixed       2867\n",
       "                                                   pro         3121\n",
       "Roanoke-Lynchburg, VA                              con            4\n",
       "                                                   mixed        460\n",
       "                                                   pro          504\n",
       "San Francisco-Oakland-San Jose, CA                 con         6584\n",
       "                                                   mixed       9983\n",
       "                                                   pro         4377\n",
       "Sioux City, Iowa                                   con          624\n",
       "                                                   mixed       7662\n",
       "                                                   pro         4620\n",
       "Tampa-St. Petersburg, FL                           con        12906\n",
       "                                                   mixed       7386\n",
       "                                                   pro         3915\n",
       "Washington, DC/Hagerstown, MD                      con          730\n",
       "                                                   mixed       2897\n",
       "                                                   pro         8698\n",
       "none                                               con           14\n",
       "                                                   mixed         10\n",
       "                                                   pro            1\n",
       "Name: id, Length: 78, dtype: int64"
      ]
     },
     "execution_count": 27,
     "metadata": {},
     "output_type": "execute_result"
    }
   ],
   "source": [
    "# Where are negative Ads most likely to be deployed?\n",
    "# Here we group our data by location and message to take a look.\n",
    "df3 = df.groupby(['location','message'])['id'].count()\n",
    "# Now let's name our columns and show an ad count.\n",
    "df3.columns = ['location', 'message', 'ad count']\n",
    "df3"
   ]
  },
  {
   "cell_type": "code",
   "execution_count": 28,
   "metadata": {},
   "outputs": [
    {
     "data": {
      "text/plain": [
       "44"
      ]
     },
     "execution_count": 28,
     "metadata": {},
     "output_type": "execute_result"
    }
   ],
   "source": [
    "# Let's check to see if our grouping worked.\n",
    "len(df[(df.location == \"Reno, NV\") & (df.message == 'con')])"
   ]
  },
  {
   "cell_type": "code",
   "execution_count": 22,
   "metadata": {},
   "outputs": [
    {
     "data": {
      "text/plain": [
       "<matplotlib.axes._subplots.AxesSubplot at 0x125b9e518>"
      ]
     },
     "execution_count": 22,
     "metadata": {},
     "output_type": "execute_result"
    },
    {
     "data": {
      "image/png": "[encoded data removed]",
      "text/plain": [
       "<Figure size 1440x720 with 1 Axes>"
      ]
     },
     "metadata": {
      "needs_background": "light"
     },
     "output_type": "display_data"
    }
   ],
   "source": [
    "# Here we will create a stacked bar chart to look at the mix of message type by location.\n",
    "from matplotlib.pyplot import figure\n",
    "##figure(num=None, figsize=(20, 10), dpi=80, facecolor='w', edgecolor='k')\n",
    "plt.rcParams[\"figure.figsize\"] = (20,10)\n",
    "df3 = df.groupby(['location','message'])['id'].count().unstack()\n",
    "df3.columns = ['Con', 'Mixed', 'Pro']\n",
    "df3.plot(kind='bar', stacked=True)"
   ]
  },
  {
   "cell_type": "code",
   "execution_count": 21,
   "metadata": {},
   "outputs": [
    {
     "data": {
      "image/png": "[encoded data removed]",
      "text/plain": [
       "<Figure size 1440x720 with 1 Axes>"
      ]
     },
     "metadata": {
      "needs_background": "light"
     },
     "output_type": "display_data"
    }
   ],
   "source": [
    "# Let's arange the graph to show the locations in decending order by total Ads shown.\n",
    "df3['total'] = df3['Pro'] + df3['Con'] + df3['Mixed']\n",
    "df4 = df3.loc[df3['total'].sort_values(ascending=False).index.tolist()]\n",
    "df4 = df4[['Pro', 'Con', 'Mixed']]\n",
    "df4.plot(kind='bar', stacked=True)\n",
    "plt.rcParams[\"figure.figsize\"] = (16,8)"
   ]
  },
  {
   "cell_type": "code",
   "execution_count": 37,
   "metadata": {},
   "outputs": [
    {
     "data": {
      "text/html": [
       "<div>\n",
       "<style scoped>\n",
       "    .dataframe tbody tr th:only-of-type {\n",
       "        vertical-align: middle;\n",
       "    }\n",
       "\n",
       "    .dataframe tbody tr th {\n",
       "        vertical-align: top;\n",
       "    }\n",
       "\n",
       "    .dataframe thead th {\n",
       "        text-align: right;\n",
       "    }\n",
       "</style>\n",
       "<table border=\"1\" class=\"dataframe\">\n",
       "  <thead>\n",
       "    <tr style=\"text-align: right;\">\n",
       "      <th></th>\n",
       "      <th>Con</th>\n",
       "      <th>Mixed</th>\n",
       "      <th>Pro</th>\n",
       "      <th>total</th>\n",
       "      <th>Percent Con</th>\n",
       "      <th>Percent Pro</th>\n",
       "      <th>Percent Mixed</th>\n",
       "    </tr>\n",
       "    <tr>\n",
       "      <th>location</th>\n",
       "      <th></th>\n",
       "      <th></th>\n",
       "      <th></th>\n",
       "      <th></th>\n",
       "      <th></th>\n",
       "      <th></th>\n",
       "      <th></th>\n",
       "    </tr>\n",
       "  </thead>\n",
       "  <tbody>\n",
       "    <tr>\n",
       "      <th>Boston, MA/Manchester, NH</th>\n",
       "      <td>19554</td>\n",
       "      <td>17760</td>\n",
       "      <td>13606</td>\n",
       "      <td>50920</td>\n",
       "      <td>0.38</td>\n",
       "      <td>0.27</td>\n",
       "      <td>0.35</td>\n",
       "    </tr>\n",
       "    <tr>\n",
       "      <th>Ceder Rapids-Waterloo-Iowa City-Dublin, Iowa</th>\n",
       "      <td>3660</td>\n",
       "      <td>12316</td>\n",
       "      <td>8604</td>\n",
       "      <td>24580</td>\n",
       "      <td>0.15</td>\n",
       "      <td>0.35</td>\n",
       "      <td>0.50</td>\n",
       "    </tr>\n",
       "    <tr>\n",
       "      <th>Charlotte, NC</th>\n",
       "      <td>129</td>\n",
       "      <td>1689</td>\n",
       "      <td>712</td>\n",
       "      <td>2530</td>\n",
       "      <td>0.05</td>\n",
       "      <td>0.28</td>\n",
       "      <td>0.67</td>\n",
       "    </tr>\n",
       "    <tr>\n",
       "      <th>Cincinnati, OH</th>\n",
       "      <td>179</td>\n",
       "      <td>1539</td>\n",
       "      <td>2313</td>\n",
       "      <td>4031</td>\n",
       "      <td>0.04</td>\n",
       "      <td>0.57</td>\n",
       "      <td>0.38</td>\n",
       "    </tr>\n",
       "    <tr>\n",
       "      <th>Cleveland, Ohio</th>\n",
       "      <td>10447</td>\n",
       "      <td>6200</td>\n",
       "      <td>6509</td>\n",
       "      <td>23156</td>\n",
       "      <td>0.45</td>\n",
       "      <td>0.28</td>\n",
       "      <td>0.27</td>\n",
       "    </tr>\n",
       "    <tr>\n",
       "      <th>Colorado Springs-Pueblo, CO</th>\n",
       "      <td>7</td>\n",
       "      <td>979</td>\n",
       "      <td>495</td>\n",
       "      <td>1481</td>\n",
       "      <td>0.00</td>\n",
       "      <td>0.33</td>\n",
       "      <td>0.66</td>\n",
       "    </tr>\n",
       "    <tr>\n",
       "      <th>Columbia, SC</th>\n",
       "      <td>2275</td>\n",
       "      <td>4203</td>\n",
       "      <td>4392</td>\n",
       "      <td>10870</td>\n",
       "      <td>0.21</td>\n",
       "      <td>0.40</td>\n",
       "      <td>0.39</td>\n",
       "    </tr>\n",
       "    <tr>\n",
       "      <th>Denver, CO</th>\n",
       "      <td>2670</td>\n",
       "      <td>3707</td>\n",
       "      <td>4524</td>\n",
       "      <td>10901</td>\n",
       "      <td>0.24</td>\n",
       "      <td>0.42</td>\n",
       "      <td>0.34</td>\n",
       "    </tr>\n",
       "    <tr>\n",
       "      <th>Des Moines-Ames, Iowa</th>\n",
       "      <td>839</td>\n",
       "      <td>10418</td>\n",
       "      <td>6469</td>\n",
       "      <td>17726</td>\n",
       "      <td>0.05</td>\n",
       "      <td>0.36</td>\n",
       "      <td>0.59</td>\n",
       "    </tr>\n",
       "    <tr>\n",
       "      <th>Greenville-Spartanburg, SC/Asheville-Anderson, NC</th>\n",
       "      <td>1718</td>\n",
       "      <td>3417</td>\n",
       "      <td>3430</td>\n",
       "      <td>8565</td>\n",
       "      <td>0.20</td>\n",
       "      <td>0.40</td>\n",
       "      <td>0.40</td>\n",
       "    </tr>\n",
       "    <tr>\n",
       "      <th>Las Vegas, NV</th>\n",
       "      <td>22124</td>\n",
       "      <td>8234</td>\n",
       "      <td>11773</td>\n",
       "      <td>42131</td>\n",
       "      <td>0.53</td>\n",
       "      <td>0.28</td>\n",
       "      <td>0.20</td>\n",
       "    </tr>\n",
       "    <tr>\n",
       "      <th>Miami-Fort Lauderdale, FL</th>\n",
       "      <td>326</td>\n",
       "      <td>1894</td>\n",
       "      <td>328</td>\n",
       "      <td>2548</td>\n",
       "      <td>0.13</td>\n",
       "      <td>0.13</td>\n",
       "      <td>0.74</td>\n",
       "    </tr>\n",
       "    <tr>\n",
       "      <th>Milwaukee, WI</th>\n",
       "      <td>9097</td>\n",
       "      <td>2804</td>\n",
       "      <td>3522</td>\n",
       "      <td>15423</td>\n",
       "      <td>0.59</td>\n",
       "      <td>0.23</td>\n",
       "      <td>0.18</td>\n",
       "    </tr>\n",
       "    <tr>\n",
       "      <th>New York City, NY</th>\n",
       "      <td>63</td>\n",
       "      <td>657</td>\n",
       "      <td>1293</td>\n",
       "      <td>2013</td>\n",
       "      <td>0.03</td>\n",
       "      <td>0.64</td>\n",
       "      <td>0.33</td>\n",
       "    </tr>\n",
       "    <tr>\n",
       "      <th>Norfolk-Portsmouth-Newport News, NC</th>\n",
       "      <td>2</td>\n",
       "      <td>719</td>\n",
       "      <td>785</td>\n",
       "      <td>1506</td>\n",
       "      <td>0.00</td>\n",
       "      <td>0.52</td>\n",
       "      <td>0.48</td>\n",
       "    </tr>\n",
       "    <tr>\n",
       "      <th>Orlando-Daytona Beach-Melbourne, FL</th>\n",
       "      <td>1802</td>\n",
       "      <td>2075</td>\n",
       "      <td>1022</td>\n",
       "      <td>4899</td>\n",
       "      <td>0.37</td>\n",
       "      <td>0.21</td>\n",
       "      <td>0.42</td>\n",
       "    </tr>\n",
       "    <tr>\n",
       "      <th>Philadelphia, PA</th>\n",
       "      <td>20041</td>\n",
       "      <td>12228</td>\n",
       "      <td>12057</td>\n",
       "      <td>44326</td>\n",
       "      <td>0.45</td>\n",
       "      <td>0.27</td>\n",
       "      <td>0.28</td>\n",
       "    </tr>\n",
       "    <tr>\n",
       "      <th>Phoenix-Prescott, AZ</th>\n",
       "      <td>4050</td>\n",
       "      <td>5358</td>\n",
       "      <td>3492</td>\n",
       "      <td>12900</td>\n",
       "      <td>0.31</td>\n",
       "      <td>0.27</td>\n",
       "      <td>0.42</td>\n",
       "    </tr>\n",
       "    <tr>\n",
       "      <th>Raleigh-Durham-Fayetteville,  NC</th>\n",
       "      <td>8219</td>\n",
       "      <td>4689</td>\n",
       "      <td>4529</td>\n",
       "      <td>17437</td>\n",
       "      <td>0.47</td>\n",
       "      <td>0.26</td>\n",
       "      <td>0.27</td>\n",
       "    </tr>\n",
       "    <tr>\n",
       "      <th>Reno, NV</th>\n",
       "      <td>44</td>\n",
       "      <td>2867</td>\n",
       "      <td>3121</td>\n",
       "      <td>6032</td>\n",
       "      <td>0.01</td>\n",
       "      <td>0.52</td>\n",
       "      <td>0.48</td>\n",
       "    </tr>\n",
       "    <tr>\n",
       "      <th>Roanoke-Lynchburg, VA</th>\n",
       "      <td>4</td>\n",
       "      <td>460</td>\n",
       "      <td>504</td>\n",
       "      <td>968</td>\n",
       "      <td>0.00</td>\n",
       "      <td>0.52</td>\n",
       "      <td>0.48</td>\n",
       "    </tr>\n",
       "    <tr>\n",
       "      <th>San Francisco-Oakland-San Jose, CA</th>\n",
       "      <td>6584</td>\n",
       "      <td>9983</td>\n",
       "      <td>4377</td>\n",
       "      <td>20944</td>\n",
       "      <td>0.31</td>\n",
       "      <td>0.21</td>\n",
       "      <td>0.48</td>\n",
       "    </tr>\n",
       "    <tr>\n",
       "      <th>Sioux City, Iowa</th>\n",
       "      <td>624</td>\n",
       "      <td>7662</td>\n",
       "      <td>4620</td>\n",
       "      <td>12906</td>\n",
       "      <td>0.05</td>\n",
       "      <td>0.36</td>\n",
       "      <td>0.59</td>\n",
       "    </tr>\n",
       "    <tr>\n",
       "      <th>Tampa-St. Petersburg, FL</th>\n",
       "      <td>12906</td>\n",
       "      <td>7386</td>\n",
       "      <td>3915</td>\n",
       "      <td>24207</td>\n",
       "      <td>0.53</td>\n",
       "      <td>0.16</td>\n",
       "      <td>0.31</td>\n",
       "    </tr>\n",
       "    <tr>\n",
       "      <th>Washington, DC/Hagerstown, MD</th>\n",
       "      <td>730</td>\n",
       "      <td>2897</td>\n",
       "      <td>8698</td>\n",
       "      <td>12325</td>\n",
       "      <td>0.06</td>\n",
       "      <td>0.71</td>\n",
       "      <td>0.24</td>\n",
       "    </tr>\n",
       "    <tr>\n",
       "      <th>none</th>\n",
       "      <td>14</td>\n",
       "      <td>10</td>\n",
       "      <td>1</td>\n",
       "      <td>25</td>\n",
       "      <td>0.56</td>\n",
       "      <td>0.04</td>\n",
       "      <td>0.40</td>\n",
       "    </tr>\n",
       "  </tbody>\n",
       "</table>\n",
       "</div>"
      ],
      "text/plain": [
       "                                                     Con  Mixed    Pro  total  \\\n",
       "location                                                                        \n",
       "Boston, MA/Manchester, NH                          19554  17760  13606  50920   \n",
       "Ceder Rapids-Waterloo-Iowa City-Dublin, Iowa        3660  12316   8604  24580   \n",
       "Charlotte, NC                                        129   1689    712   2530   \n",
       "Cincinnati, OH                                       179   1539   2313   4031   \n",
       "Cleveland, Ohio                                    10447   6200   6509  23156   \n",
       "Colorado Springs-Pueblo, CO                            7    979    495   1481   \n",
       "Columbia, SC                                        2275   4203   4392  10870   \n",
       "Denver, CO                                          2670   3707   4524  10901   \n",
       "Des Moines-Ames, Iowa                                839  10418   6469  17726   \n",
       "Greenville-Spartanburg, SC/Asheville-Anderson, NC   1718   3417   3430   8565   \n",
       "Las Vegas, NV                                      22124   8234  11773  42131   \n",
       "Miami-Fort Lauderdale, FL                            326   1894    328   2548   \n",
       "Milwaukee, WI                                       9097   2804   3522  15423   \n",
       "New York City, NY                                     63    657   1293   2013   \n",
       "Norfolk-Portsmouth-Newport News, NC                    2    719    785   1506   \n",
       "Orlando-Daytona Beach-Melbourne, FL                 1802   2075   1022   4899   \n",
       "Philadelphia, PA                                   20041  12228  12057  44326   \n",
       "Phoenix-Prescott, AZ                                4050   5358   3492  12900   \n",
       "Raleigh-Durham-Fayetteville,  NC                    8219   4689   4529  17437   \n",
       "Reno, NV                                              44   2867   3121   6032   \n",
       "Roanoke-Lynchburg, VA                                  4    460    504    968   \n",
       "San Francisco-Oakland-San Jose, CA                  6584   9983   4377  20944   \n",
       "Sioux City, Iowa                                     624   7662   4620  12906   \n",
       "Tampa-St. Petersburg, FL                           12906   7386   3915  24207   \n",
       "Washington, DC/Hagerstown, MD                        730   2897   8698  12325   \n",
       "none                                                  14     10      1     25   \n",
       "\n",
       "                                                  Percent Con Percent Pro  \\\n",
       "location                                                                    \n",
       "Boston, MA/Manchester, NH                                0.38        0.27   \n",
       "Ceder Rapids-Waterloo-Iowa City-Dublin, Iowa             0.15        0.35   \n",
       "Charlotte, NC                                            0.05        0.28   \n",
       "Cincinnati, OH                                           0.04        0.57   \n",
       "Cleveland, Ohio                                          0.45        0.28   \n",
       "Colorado Springs-Pueblo, CO                              0.00        0.33   \n",
       "Columbia, SC                                             0.21        0.40   \n",
       "Denver, CO                                               0.24        0.42   \n",
       "Des Moines-Ames, Iowa                                    0.05        0.36   \n",
       "Greenville-Spartanburg, SC/Asheville-Anderson, NC        0.20        0.40   \n",
       "Las Vegas, NV                                            0.53        0.28   \n",
       "Miami-Fort Lauderdale, FL                                0.13        0.13   \n",
       "Milwaukee, WI                                            0.59        0.23   \n",
       "New York City, NY                                        0.03        0.64   \n",
       "Norfolk-Portsmouth-Newport News, NC                      0.00        0.52   \n",
       "Orlando-Daytona Beach-Melbourne, FL                      0.37        0.21   \n",
       "Philadelphia, PA                                         0.45        0.27   \n",
       "Phoenix-Prescott, AZ                                     0.31        0.27   \n",
       "Raleigh-Durham-Fayetteville,  NC                         0.47        0.26   \n",
       "Reno, NV                                                 0.01        0.52   \n",
       "Roanoke-Lynchburg, VA                                    0.00        0.52   \n",
       "San Francisco-Oakland-San Jose, CA                       0.31        0.21   \n",
       "Sioux City, Iowa                                         0.05        0.36   \n",
       "Tampa-St. Petersburg, FL                                 0.53        0.16   \n",
       "Washington, DC/Hagerstown, MD                            0.06        0.71   \n",
       "none                                                     0.56        0.04   \n",
       "\n",
       "                                                  Percent Mixed  \n",
       "location                                                         \n",
       "Boston, MA/Manchester, NH                                  0.35  \n",
       "Ceder Rapids-Waterloo-Iowa City-Dublin, Iowa               0.50  \n",
       "Charlotte, NC                                              0.67  \n",
       "Cincinnati, OH                                             0.38  \n",
       "Cleveland, Ohio                                            0.27  \n",
       "Colorado Springs-Pueblo, CO                                0.66  \n",
       "Columbia, SC                                               0.39  \n",
       "Denver, CO                                                 0.34  \n",
       "Des Moines-Ames, Iowa                                      0.59  \n",
       "Greenville-Spartanburg, SC/Asheville-Anderson, NC          0.40  \n",
       "Las Vegas, NV                                              0.20  \n",
       "Miami-Fort Lauderdale, FL                                  0.74  \n",
       "Milwaukee, WI                                              0.18  \n",
       "New York City, NY                                          0.33  \n",
       "Norfolk-Portsmouth-Newport News, NC                        0.48  \n",
       "Orlando-Daytona Beach-Melbourne, FL                        0.42  \n",
       "Philadelphia, PA                                           0.28  \n",
       "Phoenix-Prescott, AZ                                       0.42  \n",
       "Raleigh-Durham-Fayetteville,  NC                           0.27  \n",
       "Reno, NV                                                   0.48  \n",
       "Roanoke-Lynchburg, VA                                      0.48  \n",
       "San Francisco-Oakland-San Jose, CA                         0.48  \n",
       "Sioux City, Iowa                                           0.59  \n",
       "Tampa-St. Petersburg, FL                                   0.31  \n",
       "Washington, DC/Hagerstown, MD                              0.24  \n",
       "none                                                       0.40  "
      ]
     },
     "execution_count": 37,
     "metadata": {},
     "output_type": "execute_result"
    }
   ],
   "source": [
    "# Let's take a look at the data as a percentage to see if Ads are more likely to be negative in some locations\n",
    "df3['Percent Con'] = df3['Con'] / df3['total']\n",
    "df3['Percent Con'] = df3['Percent Con'].apply(lambda x: '{0:.2f}'.format(x))\n",
    "df3['Percent Pro'] = df3['Pro'] / df3['total']\n",
    "df3['Percent Pro'] = df3['Percent Pro'].apply(lambda x: '{0:.2f}'.format(x))\n",
    "df3['Percent Mixed'] = df3['Mixed'] / df3['total']\n",
    "df3['Percent Mixed'] = df3['Percent Mixed'].apply(lambda x: '{0:.2f}'.format(x))\n",
    "df3"
   ]
  },
  {
   "cell_type": "code",
   "execution_count": null,
   "metadata": {},
   "outputs": [],
   "source": [
    "#### This shows us a few things. First the bottom four locations where fewer Ads are shown do not have any 'Con' Ads.\n",
    "# If people have a limited amount of resources to display Ads, do they focus on 'Pro' or atleast \n",
    "# 'Mixed' Messages. As more Ads appear by location a larger percentage are allocated\n",
    "# to 'Con' Ads. This may indicate that after a campaign is satisfied that it has sufficiently described the \n",
    "# positives of its message they begin to allocate resources to attacking their opponent.\n",
    "# One exception is Ads from cities in Iowa. Ad Campaigns in Iowa appear to be very positive compared to the rest of \n",
    "# our Locations. Are Iowan's culturally less inclined to respond well to 'Con' Ads? Could this be due to their \n",
    "# relative size? Using Iowa as an example, it could be due to their proximity to more rural cultures.\n",
    "# Looking at smaller more rural cities we have  Denver, Columbia, Greenville-Spartansburg/Ashevill-Anderson, \n",
    "# Raleigh/Durham, and Milwakee all also have lower occurance of 'Con' Ads. Of these cities 3 have more 'Pro' than 'Con'\n",
    "# Ads, with the opposite being true for the other 2. It seems that smaller and more rural cities are not targeted\n",
    "# with as many 'Con' Ads. Let's examine Milwalkee and Raleigh-Durham. Why do they have such high occurances of 'Con'\n",
    "# Ads? This could be due to the nature of the Campains being run. Once one side begins using'Con' Ads does this\n",
    "# escalate the usage by their opponent creating a 'Con' feedback loop? Let's take a look at the more populous cities: \n",
    "# Boston, Philadelphia, Las Vegas, San Francison, New York, Washington DC. Conversly, larger more populous cities appear to have larger\n",
    "# uses of Negative Ads. New York and DC have more 'Pro' Ads than 'Con', however, these cities have fewer Ads shown than \n",
    "# the rest. This reinforces our hypothesis that higher volumes of Ads shown lead to more 'Con' Ads.\n",
    "# Let's take a look at the exact percentages to see where the Locations rank by percentage. ADd example of money spent \n",
    "# to show why they would switch to Con ADs after an amount of money\n"
   ]
  },
  {
   "cell_type": "code",
   "execution_count": 41,
   "metadata": {},
   "outputs": [
    {
     "data": {
      "text/plain": [
       "<matplotlib.axes._subplots.AxesSubplot at 0x11031f898>"
      ]
     },
     "execution_count": 41,
     "metadata": {},
     "output_type": "execute_result"
    },
    {
     "data": {
      "text/plain": [
       "<Figure size 1600x640 with 0 Axes>"
      ]
     },
     "metadata": {},
     "output_type": "display_data"
    },
    {
     "data": {
      "image/png": "[encoded data removed]",
      "text/plain": [
       "<Figure size 432x288 with 1 Axes>"
      ]
     },
     "metadata": {
      "needs_background": "light"
     },
     "output_type": "display_data"
    }
   ],
   "source": [
    "# Place commmentary below and add Percentages to comments to drive home the ppoint\n",
    "# Let's take a look a message through another lense. I wonder if the type of sponsor who pays for the Ad will affect\n",
    "# the type of message they choose to put in their Ad.\n",
    "from matplotlib.pyplot import figure\n",
    "figure(num=None, figsize=(20, 8), dpi=80, facecolor='w', edgecolor='k')\n",
    "df7 = df.groupby(['sponsor_types','message'])['id'].count().unstack()\n",
    "df7.columns = ['Con', 'Mixed', 'Pro']\n",
    "df7.plot(kind='bar', stacked=True)"
   ]
  },
  {
   "cell_type": "code",
   "execution_count": 49,
   "metadata": {},
   "outputs": [
    {
     "data": {
      "text/plain": [
       "<matplotlib.axes._subplots.AxesSubplot at 0x1202b22e8>"
      ]
     },
     "execution_count": 49,
     "metadata": {},
     "output_type": "execute_result"
    },
    {
     "data": {
      "image/png": "[encoded data removed]",
      "text/plain": [
       "<Figure size 432x288 with 1 Axes>"
      ]
     },
     "metadata": {
      "needs_background": "light"
     },
     "output_type": "display_data"
    }
   ],
   "source": [
    "# Let's again arrange in decending order to take a better look.\n",
    "df7['total'] = df7['Pro'] + df7['Con'] + df7['Mixed']\n",
    "df8 = df7[['Pro', 'Con', 'Mixed']]\n",
    "df8 = df7.loc[df7['total'].sort_values(ascending=False).index.tolist()]\n",
    "df8 = df8[['Pro', 'Con', 'Mixed']]\n",
    "df8.plot(kind='bar', stacked=True)"
   ]
  },
  {
   "cell_type": "code",
   "execution_count": null,
   "metadata": {},
   "outputs": [],
   "source": [
    "# We can see significant differences here in the Message based on the sponsor type. Candidate Committee and Non Profit \n",
    "# funded Ads are predominantly Pro and Mixed while Super PAC and PAC funded Ads. If a Candidate is paying for his own\n",
    "# Ads it would make sense that they would want to keep a Pro Message to preserve the image of running a clean campaign.\n",
    "# Non Profits have to consider their donors, a Pro Message is less likely to offened their donors. On the other hand,\n",
    "# PACs and Super PACs are vehicles that coroporations and donors use to funnel large amounts of money to a specific \n",
    "# candidate or cause. They are not run by the Candidate and thus are less connected to their Campaign. This would \n",
    "# explain why they are inclined to sponsor more Con Ads. They do not have an image to protect, only a message to \n",
    "# convey or a goal to achieve i.e electing a cadidate."
   ]
  },
  {
   "cell_type": "code",
   "execution_count": null,
   "metadata": {},
   "outputs": [],
   "source": [
    "# While we started with an even distribution of Ads across all message types. When diving into the details of the \n",
    "# data we discovered that depending on the Location of the Campaign or the people paying for it we discovered that \n",
    "# the distribution of message type can vary greatly. To explore further I would want a larger data source covering more\n",
    "# Ads in more campaings to see if the trends we discovered hold or more trends emerge across the country.\n",
    "# We would need this larger data set to provide reccomendations based on this data and would neet to\n",
    "# research which candidates won each race and by what margin to determine if there was any correlation between \n",
    "# winning a race and the characteristcs of Ads shown in our data. Additionally I would want to dig into the\n",
    "# strategy, goal, and motivation of these Advertisers(Campaigns)."
   ]
  },
  {
   "cell_type": "code",
   "execution_count": null,
   "metadata": {},
   "outputs": [],
   "source": []
  }
 ],
 "metadata": {
  "kernelspec": {
   "display_name": "Python 3",
   "language": "python",
   "name": "python3"
  },
  "language_info": {
   "codemirror_mode": {
    "name": "ipython",
    "version": 3
   },
   "file_extension": ".py",
   "mimetype": "text/x-python",
   "name": "python",
   "nbconvert_exporter": "python",
   "pygments_lexer": "ipython3",
   "version": "3.7.3"
  }
 },
 "nbformat": 4,
 "nbformat_minor": 2
}
